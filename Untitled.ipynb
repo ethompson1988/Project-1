{
 "cells": [
  {
   "cell_type": "code",
   "execution_count": 160,
   "metadata": {},
   "outputs": [],
   "source": [
    "import pandas as pd\n",
    "import numpy as np"
   ]
  },
  {
   "cell_type": "code",
   "execution_count": 161,
   "metadata": {},
   "outputs": [],
   "source": [
    "csv_path1='crime.csv'\n",
    "csv_path2='Marijuana_Sales_Revenue_in_Colorado.csv'\n",
    "denver_crime_df=pd.read_csv(csv_path1)\n",
    "sales_df=pd.read_csv(csv_path2)"
   ]
  },
  {
   "cell_type": "code",
   "execution_count": null,
   "metadata": {},
   "outputs": [],
   "source": [
    "crime_df=pd.DataFrame({\n",
    "                       'Offense Type':denver_crime_df['OFFENSE_TYPE_ID'],\n",
    "                       'Offense Category':denver_crime_df['OFFENSE_CATEGORY_ID'],\n",
    "                       'Occurrence Date':denver_crime_df['FIRST_OCCURRENCE_DATE'],\n",
    "                       'Crime':denver_crime_df['IS_CRIME']\n",
    "                      })\n",
    "new = crime_df['Occurrence Date'].str.split(\" \", n = -1, expand = True)\n",
    "new = new[0].str.split(\"/\",expand=True)\n",
    "crime_df['Month']=new[0]\n",
    "crime_df['Year']=new[2]\n",
    "crime_df=crime_df.drop(['Occurrence Date'],axis=1)\n",
    "crime_df=crime_df.drop(['Crime'],axis=1)\n",
    "\n",
    "crime_df=crime_df.loc[((crime_df['Offense Category']=='drug-alcohol')|(crime_df['Offense Category']=='murder')|\n",
    "                      (crime_df['Offense Category']=='public-disorder')|(crime_df['Offense Category']=='aggravated-assault')|\n",
    "                        (crime_df['Offense Category']=='traffic-accident')&(crime_df['Offense Type']=='traffic-accident-dui-duid'))]\n",
    "crime_df=crime_df.loc[((crime_df['Year']=='2013')|(crime_df['Year']=='2014')|\n",
    "                       (crime_df['Year']=='2015')|(crime_df['Year']=='2016'))]"
   ]
  },
  {
   "cell_type": "code",
   "execution_count": null,
   "metadata": {},
   "outputs": [],
   "source": [
    "dui=crime_df.loc[crime_df['Offense Category']=='traffic-accident']\n",
    "dui=dui.drop(['Offense Category'],axis=1)\n",
    "dui=dui.reset_index()\n",
    "dui=dui.drop(['index'],axis=1)\n",
    "dui=dui.groupby(['Year','Month']).count()\n",
    "dui['Total']=dui['Offense Type']\n",
    "dui=dui.drop(['Offense Type'],axis=1)"
   ]
  },
  {
   "cell_type": "code",
   "execution_count": null,
   "metadata": {},
   "outputs": [],
   "source": [
    "disorder=crime_df.loc[crime_df['Offense Category']=='public-disorder']\n",
    "disorder=disorder.groupby(['Year','Month']).count()\n",
    "disorder['Total']=disorder['Offense Type']\n",
    "disorder=disorder.drop(['Offense Type'],axis=1)\n",
    "disorder=disorder.drop(['Offense Category'],axis=1)"
   ]
  },
  {
   "cell_type": "code",
   "execution_count": null,
   "metadata": {},
   "outputs": [],
   "source": [
    "assault=crime_df.loc[crime_df['Offense Category']=='aggravated-assault']\n",
    "assault=assault.groupby(['Year','Month']).count()\n",
    "assault['Total']=assault['Offense Type']\n",
    "assault=assault.drop(['Offense Type'],axis=1)\n",
    "assault=assault.drop(['Offense Category'],axis=1)"
   ]
  },
  {
   "cell_type": "code",
   "execution_count": null,
   "metadata": {},
   "outputs": [],
   "source": [
    "murder=crime_df.loc[crime_df['Offense Category']=='murder']\n",
    "murder=murder.groupby(['Year','Month']).count()\n",
    "murder['Total']=murder['Offense Type']\n",
    "murder=murder.drop(['Offense Type'],axis=1)\n",
    "murder=murder.drop(['Offense Category'],axis=1)\n",
    "murder.head()"
   ]
  },
  {
   "cell_type": "code",
   "execution_count": 262,
   "metadata": {},
   "outputs": [
    {
     "data": {
      "text/html": [
       "<div>\n",
       "<style scoped>\n",
       "    .dataframe tbody tr th:only-of-type {\n",
       "        vertical-align: middle;\n",
       "    }\n",
       "\n",
       "    .dataframe tbody tr th {\n",
       "        vertical-align: top;\n",
       "    }\n",
       "\n",
       "    .dataframe thead th {\n",
       "        text-align: right;\n",
       "    }\n",
       "</style>\n",
       "<table border=\"1\" class=\"dataframe\">\n",
       "  <thead>\n",
       "    <tr style=\"text-align: right;\">\n",
       "      <th></th>\n",
       "      <th>Offense Type</th>\n",
       "      <th>Month</th>\n",
       "      <th>Year</th>\n",
       "    </tr>\n",
       "  </thead>\n",
       "  <tbody>\n",
       "    <tr>\n",
       "      <th>69</th>\n",
       "      <td>Paraphernalia Offenses</td>\n",
       "      <td>3</td>\n",
       "      <td>2014</td>\n",
       "    </tr>\n",
       "    <tr>\n",
       "      <th>77</th>\n",
       "      <td>Alcohol Offenses</td>\n",
       "      <td>5</td>\n",
       "      <td>2014</td>\n",
       "    </tr>\n",
       "    <tr>\n",
       "      <th>81</th>\n",
       "      <td>Methamphetamine Offenses</td>\n",
       "      <td>5</td>\n",
       "      <td>2014</td>\n",
       "    </tr>\n",
       "    <tr>\n",
       "      <th>91</th>\n",
       "      <td>Other Drug Offenses</td>\n",
       "      <td>3</td>\n",
       "      <td>2014</td>\n",
       "    </tr>\n",
       "    <tr>\n",
       "      <th>111</th>\n",
       "      <td>Cocaine Offenses</td>\n",
       "      <td>3</td>\n",
       "      <td>2014</td>\n",
       "    </tr>\n",
       "  </tbody>\n",
       "</table>\n",
       "</div>"
      ],
      "text/plain": [
       "                 Offense Type Month  Year\n",
       "69     Paraphernalia Offenses     3  2014\n",
       "77           Alcohol Offenses     5  2014\n",
       "81   Methamphetamine Offenses     5  2014\n",
       "91        Other Drug Offenses     3  2014\n",
       "111          Cocaine Offenses     3  2014"
      ]
     },
     "execution_count": 262,
     "metadata": {},
     "output_type": "execute_result"
    }
   ],
   "source": [
    "drug=crime_df.loc[crime_df['Offense Category']=='drug-alcohol']\n",
    "drug=drug.replace(['liquor-possession','liquor-sell','liquor-other-viol','liquor-misrepresent-age-minor','liquor-manufacturing'],'Alcohol Offenses')\n",
    "drug=drug.replace(['drug-marijuana-possess','drug-marijuana-sell','drug-marijuana-cultivation'],'Marijuana Offenses')\n",
    "drug=drug.replace(['drug-methampetamine-possess','drug-methampetamine-sell','drug-methamphetamine-mfr'],'Methamphetamine Offenses')\n",
    "drug=drug.replace(['drug-cocaine-possess','drug-cocaine-sell'],'Cocaine Offenses')\n",
    "drug=drug.replace(['drug-heroin-possess','drug-heroin-sell'],'Heroin Offenses')\n",
    "drug=drug.replace(['drug-hallucinogen-possess','drug-hallucinogen-sell','drug-hallucinogen-mfr'],'Hallucinogen Offenses')\n",
    "drug=drug.replace(['drug-barbiturate-possess','drug-barbiturate-sell','drug-barbiturate-mfr'],'Barbiturate Offenses')\n",
    "drug=drug.replace(['drug-opium-or-deriv-possess','drug-opium-or-deriv-sell'],'Opium/Derivitave Offenses')\n",
    "drug=drug.replace(['drug-synth-narcotic-possess','drug-synth-narcotic-sell'],'Synthetic Narcotic Offenses')\n",
    "drug=drug.replace(['drug-pcs-other-drug','drug-make-sell-other-drug'],'Other Drug Offenses')\n",
    "drug=drug.replace(['drug-poss-paraphernalia'],'Paraphernalia Offenses')\n",
    "drug=drug.loc[drug['Offense Type']!='drug-fraud-to-obtain']\n",
    "drug=drug.drop(['Offense Category'],axis=1)\n",
    "drug.head()"
   ]
  },
  {
   "cell_type": "code",
   "execution_count": 263,
   "metadata": {},
   "outputs": [
    {
     "data": {
      "text/plain": [
       "Alcohol Offenses               7104\n",
       "Paraphernalia Offenses         3810\n",
       "Cocaine Offenses               3023\n",
       "Methamphetamine Offenses       2875\n",
       "Marijuana Offenses             2759\n",
       "Heroin Offenses                2131\n",
       "Other Drug Offenses             596\n",
       "Hallucinogen Offenses           140\n",
       "Opium/Derivitave Offenses       131\n",
       "Synthetic Narcotic Offenses     119\n",
       "Barbiturate Offenses             44\n",
       "Name: Offense Type, dtype: int64"
      ]
     },
     "execution_count": 263,
     "metadata": {},
     "output_type": "execute_result"
    }
   ],
   "source": [
    "drug['Offense Type'].value_counts()\n"
   ]
  },
  {
   "cell_type": "code",
   "execution_count": 17,
   "metadata": {},
   "outputs": [
    {
     "data": {
      "text/plain": [
       "335851"
      ]
     },
     "execution_count": 17,
     "metadata": {},
     "output_type": "execute_result"
    }
   ],
   "source": []
  },
  {
   "cell_type": "code",
   "execution_count": null,
   "metadata": {},
   "outputs": [],
   "source": []
  }
 ],
 "metadata": {
  "kernelspec": {
   "display_name": "Python [conda env:PythonData] *",
   "language": "python",
   "name": "conda-env-PythonData-py"
  },
  "language_info": {
   "codemirror_mode": {
    "name": "ipython",
    "version": 3
   },
   "file_extension": ".py",
   "mimetype": "text/x-python",
   "name": "python",
   "nbconvert_exporter": "python",
   "pygments_lexer": "ipython3",
   "version": "3.8.5"
  }
 },
 "nbformat": 4,
 "nbformat_minor": 4
}
