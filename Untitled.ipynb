{
 "cells": [
  {
   "cell_type": "code",
   "execution_count": 160,
   "metadata": {},
   "outputs": [],
   "source": [
    "import pandas as pd\n",
    "import numpy as np"
   ]
  },
  {
   "cell_type": "code",
   "execution_count": 161,
   "metadata": {},
   "outputs": [],
   "source": [
    "csv_path1='crime.csv'\n",
    "csv_path2='Marijuana_Sales_Revenue_in_Colorado.csv'\n",
    "denver_crime_df=pd.read_csv(csv_path1)\n",
    "sales_df=pd.read_csv(csv_path2)"
   ]
  },
  {
   "cell_type": "code",
   "execution_count": 221,
   "metadata": {},
   "outputs": [
    {
     "data": {
      "text/plain": [
       "liquor-possession                6914\n",
       "drug-poss-paraphernalia          3810\n",
       "drug-marijuana-possess           2423\n",
       "drug-methampetamine-possess      2414\n",
       "drug-cocaine-possess             2082\n",
       "drug-heroin-possess              1561\n",
       "drug-cocaine-sell                 941\n",
       "drug-heroin-sell                  570\n",
       "drug-pcs-other-drug               563\n",
       "drug-methampetamine-sell          451\n",
       "drug-marijuana-sell               249\n",
       "liquor-sell                       174\n",
       "drug-hallucinogen-possess          99\n",
       "drug-fraud-to-obtain               99\n",
       "drug-opium-or-deriv-possess        96\n",
       "drug-marijuana-cultivation         87\n",
       "drug-synth-narcotic-possess        70\n",
       "drug-synth-narcotic-sell           49\n",
       "drug-hallucinogen-sell             40\n",
       "drug-opium-or-deriv-sell           35\n",
       "drug-make-sell-other-drug          33\n",
       "drug-barbiturate-possess           32\n",
       "drug-methamphetamine-mfr           10\n",
       "drug-barbiturate-sell              10\n",
       "liquor-other-viol                   8\n",
       "liquor-misrepresent-age-minor       6\n",
       "liquor-manufacturing                2\n",
       "drug-barbiturate-mfr                2\n",
       "drug-hallucinogen-mfr               1\n",
       "Name: Offense Type, dtype: int64"
      ]
     },
     "execution_count": 221,
     "metadata": {},
     "output_type": "execute_result"
    }
   ],
   "source": [
    "crime_df=pd.DataFrame({\n",
    "                       'Offense Type':denver_crime_df['OFFENSE_TYPE_ID'],\n",
    "                       'Offense Category':denver_crime_df['OFFENSE_CATEGORY_ID'],\n",
    "                       'Occurrence Date':denver_crime_df['FIRST_OCCURRENCE_DATE'],\n",
    "                       'Crime':denver_crime_df['IS_CRIME']\n",
    "                      })\n",
    "new = crime_df['Occurrence Date'].str.split(\" \", n = -1, expand = True)\n",
    "new = new[0].str.split(\"/\",expand=True)\n",
    "crime_df['Month']=new[0]\n",
    "crime_df['Year']=new[2]\n",
    "crime_df=crime_df.drop(['Occurrence Date'],axis=1)\n",
    "crime_df=crime_df.drop(['Crime'],axis=1)\n",
    "\n",
    "crime_df=crime_df.loc[((crime_df['Offense Category']=='drug-alcohol')|(crime_df['Offense Category']=='murder')|\n",
    "                      (crime_df['Offense Category']=='public-disorder')|(crime_df['Offense Category']=='aggravated-assault')|\n",
    "                        (crime_df['Offense Category']=='traffic-accident')&(crime_df['Offense Type']=='traffic-accident-dui-duid'))]\n",
    "crime_df=crime_df.loc[((crime_df['Year']=='2013')|(crime_df['Year']=='2014')|\n",
    "                       (crime_df['Year']=='2015')|(crime_df['Year']=='2016'))]\n",
    "\n",
    "dui=crime_df.loc[crime_df['Offense Category']=='traffic-accident']\n",
    "dui=dui.drop(['Offense Category'],axis=1)\n",
    "dui=dui.reset_index()\n",
    "dui=dui.drop(['index'],axis=1)\n",
    "dui=dui.groupby(['Year','Month']).count()\n",
    "dui['Total']=dui['Offense Type']\n",
    "dui=dui.drop(['Offense Type'],axis=1)\n",
    "\n",
    "\n",
    "disorder=crime_df.loc[crime_df['Offense Category']=='public-disorder']\n",
    "disorder=disorder.groupby(['Year','Month']).count()\n",
    "disorder['Total']=disorder['Offense Type']\n",
    "disorder=disorder.drop(['Offense Type'],axis=1)\n",
    "disorder=disorder.drop(['Offense Category'],axis=1)\n",
    "\n",
    "\n",
    "assault=crime_df.loc[crime_df['Offense Category']=='aggravated-assault']\n",
    "assault=assault.groupby(['Year','Month']).count()\n",
    "assault['Total']=assault['Offense Type']\n",
    "assault=assault.drop(['Offense Type'],axis=1)\n",
    "assault=assault.drop(['Offense Category'],axis=1)\n",
    "\n",
    "drug=crime_df.loc[crime_df['Offense Category']=='drug-alcohol']\n",
    "\n",
    "\n",
    "\n",
    "\n",
    "murder=crime_df.loc[crime_df['Offense Category']=='murder']\n",
    "murder=murder.groupby(['Year','Month']).count()\n",
    "murder['Total']=murder['Offense Type']\n",
    "murder=murder.drop(['Offense Type'],axis=1)\n",
    "murder=murder.drop(['Offense Category'],axis=1)\n",
    "murder.head()\n",
    "\n",
    "drug['Offense Type'].value_counts()"
   ]
  },
  {
   "cell_type": "code",
   "execution_count": 184,
   "metadata": {},
   "outputs": [
    {
     "data": {
      "text/plain": [
       "2015    768\n",
       "2014    768\n",
       "2017    768\n",
       "2016    768\n",
       "2019    713\n",
       "2018    704\n",
       "2020    455\n",
       "Name: Year, dtype: int64"
      ]
     },
     "execution_count": 184,
     "metadata": {},
     "output_type": "execute_result"
    }
   ],
   "source": [
    "sales_df['Year'].value_counts()\n"
   ]
  },
  {
   "cell_type": "code",
   "execution_count": 156,
   "metadata": {},
   "outputs": [
    {
     "data": {
      "text/html": [
       "<div>\n",
       "<style scoped>\n",
       "    .dataframe tbody tr th:only-of-type {\n",
       "        vertical-align: middle;\n",
       "    }\n",
       "\n",
       "    .dataframe tbody tr th {\n",
       "        vertical-align: top;\n",
       "    }\n",
       "\n",
       "    .dataframe thead th {\n",
       "        text-align: right;\n",
       "    }\n",
       "</style>\n",
       "<table border=\"1\" class=\"dataframe\">\n",
       "  <thead>\n",
       "    <tr style=\"text-align: right;\">\n",
       "      <th></th>\n",
       "      <th>index</th>\n",
       "      <th>Date</th>\n",
       "      <th>day</th>\n",
       "    </tr>\n",
       "  </thead>\n",
       "  <tbody>\n",
       "    <tr>\n",
       "      <th>0</th>\n",
       "      <td>0</td>\n",
       "      <td>6/29/2014 1:20</td>\n",
       "      <td>[6, 29, 2014 1:20]</td>\n",
       "    </tr>\n",
       "    <tr>\n",
       "      <th>1</th>\n",
       "      <td>6</td>\n",
       "      <td>6/29/2014 2:20</td>\n",
       "      <td>[6, 29, 2014 2:20]</td>\n",
       "    </tr>\n",
       "    <tr>\n",
       "      <th>2</th>\n",
       "      <td>100</td>\n",
       "      <td>11/16/2013 4:59</td>\n",
       "      <td>[11, 16, 2013 4:59]</td>\n",
       "    </tr>\n",
       "    <tr>\n",
       "      <th>3</th>\n",
       "      <td>284</td>\n",
       "      <td>4/20/2014 22:26</td>\n",
       "      <td>[4, 20, 2014 22:26]</td>\n",
       "    </tr>\n",
       "    <tr>\n",
       "      <th>4</th>\n",
       "      <td>436</td>\n",
       "      <td>1/14/2012 21:45</td>\n",
       "      <td>[1, 14, 2012 21:45]</td>\n",
       "    </tr>\n",
       "    <tr>\n",
       "      <th>...</th>\n",
       "      <td>...</td>\n",
       "      <td>...</td>\n",
       "      <td>...</td>\n",
       "    </tr>\n",
       "    <tr>\n",
       "      <th>4121</th>\n",
       "      <td>460178</td>\n",
       "      <td>9/21/2017 23:50</td>\n",
       "      <td>[9, 21, 2017 23:50]</td>\n",
       "    </tr>\n",
       "    <tr>\n",
       "      <th>4122</th>\n",
       "      <td>460365</td>\n",
       "      <td>8/25/2017 20:55</td>\n",
       "      <td>[8, 25, 2017 20:55]</td>\n",
       "    </tr>\n",
       "    <tr>\n",
       "      <th>4123</th>\n",
       "      <td>460421</td>\n",
       "      <td>9/24/2017 0:41</td>\n",
       "      <td>[9, 24, 2017 0:41]</td>\n",
       "    </tr>\n",
       "    <tr>\n",
       "      <th>4124</th>\n",
       "      <td>460423</td>\n",
       "      <td>9/22/2017 14:05</td>\n",
       "      <td>[9, 22, 2017 14:05]</td>\n",
       "    </tr>\n",
       "    <tr>\n",
       "      <th>4125</th>\n",
       "      <td>460879</td>\n",
       "      <td>9/13/2017 2:56</td>\n",
       "      <td>[9, 13, 2017 2:56]</td>\n",
       "    </tr>\n",
       "  </tbody>\n",
       "</table>\n",
       "<p>4126 rows × 3 columns</p>\n",
       "</div>"
      ],
      "text/plain": [
       "       index             Date                  day\n",
       "0          0   6/29/2014 1:20   [6, 29, 2014 1:20]\n",
       "1          6   6/29/2014 2:20   [6, 29, 2014 2:20]\n",
       "2        100  11/16/2013 4:59  [11, 16, 2013 4:59]\n",
       "3        284  4/20/2014 22:26  [4, 20, 2014 22:26]\n",
       "4        436  1/14/2012 21:45  [1, 14, 2012 21:45]\n",
       "...      ...              ...                  ...\n",
       "4121  460178  9/21/2017 23:50  [9, 21, 2017 23:50]\n",
       "4122  460365  8/25/2017 20:55  [8, 25, 2017 20:55]\n",
       "4123  460421   9/24/2017 0:41   [9, 24, 2017 0:41]\n",
       "4124  460423  9/22/2017 14:05  [9, 22, 2017 14:05]\n",
       "4125  460879   9/13/2017 2:56   [9, 13, 2017 2:56]\n",
       "\n",
       "[4126 rows x 3 columns]"
      ]
     },
     "execution_count": 156,
     "metadata": {},
     "output_type": "execute_result"
    }
   ],
   "source": [
    "traffic_df=denver_crime_df.loc[denver_crime_df['Traffic']==1]\n",
    "dui=traffic_df.loc[traffic_df['Offense Type']=='traffic-accident-dui-duid']\n",
    "\n",
    "dui=pd.DataFrame({'Date':dui['Occurrence Date']})\n",
    "#dui['2013']=dui.loc[['Occurrence Date']]\n",
    "#dui['Date'] = pd.to_datetime(dui['Date'],format='%d/%M/%Y, %H:%m')\n",
    "#dui.reset_index()\n",
    "dui['day'] = dui['Date'].str.split('/')\n",
    "#dui['Date']=dui['Date'].astype(str)\n",
    "#dui.dtypes\n",
    "dui\n",
    "dui=dui.reset_index()\n",
    "year=[] \n",
    "for x in range(0,len(dui['day'])):  \n",
    "    year.append(dui['day'][x][2])\n",
    "    x+=1\n",
    "    \n",
    "dui\n",
    "\n",
    "    #x=0\n",
    "#for x in np.arange(0,len(dui),1):    \n",
    "#dui\n",
    "   # x+=1\n",
    "#dui    "
   ]
  },
  {
   "cell_type": "code",
   "execution_count": 157,
   "metadata": {},
   "outputs": [
    {
     "ename": "TypeError",
     "evalue": "'(slice(None, None, None), ['year'], slice(0, 3, None))' is an invalid key",
     "output_type": "error",
     "traceback": [
      "\u001b[1;31m---------------------------------------------------------------------------\u001b[0m",
      "\u001b[1;31mTypeError\u001b[0m                                 Traceback (most recent call last)",
      "\u001b[1;32m<ipython-input-157-d25a763330f6>\u001b[0m in \u001b[0;36m<module>\u001b[1;34m\u001b[0m\n\u001b[1;32m----> 1\u001b[1;33m \u001b[0mdui\u001b[0m\u001b[1;33m[\u001b[0m\u001b[1;34m'year'\u001b[0m\u001b[1;33m]\u001b[0m\u001b[1;33m=\u001b[0m\u001b[0mdui\u001b[0m\u001b[1;33m[\u001b[0m\u001b[1;33m:\u001b[0m\u001b[1;33m,\u001b[0m\u001b[1;33m[\u001b[0m\u001b[1;34m'year'\u001b[0m\u001b[1;33m]\u001b[0m\u001b[1;33m,\u001b[0m\u001b[1;36m0\u001b[0m\u001b[1;33m:\u001b[0m\u001b[1;36m3\u001b[0m\u001b[1;33m]\u001b[0m\u001b[1;33m\u001b[0m\u001b[1;33m\u001b[0m\u001b[0m\n\u001b[0m\u001b[0;32m      2\u001b[0m \u001b[1;31m#dui.head()\u001b[0m\u001b[1;33m\u001b[0m\u001b[1;33m\u001b[0m\u001b[1;33m\u001b[0m\u001b[0m\n\u001b[0;32m      3\u001b[0m \u001b[1;31m#len(dui['day'])\u001b[0m\u001b[1;33m\u001b[0m\u001b[1;33m\u001b[0m\u001b[1;33m\u001b[0m\u001b[0m\n",
      "\u001b[1;32m~\\anaconda3\\envs\\PythonData\\lib\\site-packages\\pandas\\core\\frame.py\u001b[0m in \u001b[0;36m__getitem__\u001b[1;34m(self, key)\u001b[0m\n\u001b[0;32m   2900\u001b[0m             \u001b[1;32mif\u001b[0m \u001b[0mself\u001b[0m\u001b[1;33m.\u001b[0m\u001b[0mcolumns\u001b[0m\u001b[1;33m.\u001b[0m\u001b[0mnlevels\u001b[0m \u001b[1;33m>\u001b[0m \u001b[1;36m1\u001b[0m\u001b[1;33m:\u001b[0m\u001b[1;33m\u001b[0m\u001b[1;33m\u001b[0m\u001b[0m\n\u001b[0;32m   2901\u001b[0m                 \u001b[1;32mreturn\u001b[0m \u001b[0mself\u001b[0m\u001b[1;33m.\u001b[0m\u001b[0m_getitem_multilevel\u001b[0m\u001b[1;33m(\u001b[0m\u001b[0mkey\u001b[0m\u001b[1;33m)\u001b[0m\u001b[1;33m\u001b[0m\u001b[1;33m\u001b[0m\u001b[0m\n\u001b[1;32m-> 2902\u001b[1;33m             \u001b[0mindexer\u001b[0m \u001b[1;33m=\u001b[0m \u001b[0mself\u001b[0m\u001b[1;33m.\u001b[0m\u001b[0mcolumns\u001b[0m\u001b[1;33m.\u001b[0m\u001b[0mget_loc\u001b[0m\u001b[1;33m(\u001b[0m\u001b[0mkey\u001b[0m\u001b[1;33m)\u001b[0m\u001b[1;33m\u001b[0m\u001b[1;33m\u001b[0m\u001b[0m\n\u001b[0m\u001b[0;32m   2903\u001b[0m             \u001b[1;32mif\u001b[0m \u001b[0mis_integer\u001b[0m\u001b[1;33m(\u001b[0m\u001b[0mindexer\u001b[0m\u001b[1;33m)\u001b[0m\u001b[1;33m:\u001b[0m\u001b[1;33m\u001b[0m\u001b[1;33m\u001b[0m\u001b[0m\n\u001b[0;32m   2904\u001b[0m                 \u001b[0mindexer\u001b[0m \u001b[1;33m=\u001b[0m \u001b[1;33m[\u001b[0m\u001b[0mindexer\u001b[0m\u001b[1;33m]\u001b[0m\u001b[1;33m\u001b[0m\u001b[1;33m\u001b[0m\u001b[0m\n",
      "\u001b[1;32m~\\anaconda3\\envs\\PythonData\\lib\\site-packages\\pandas\\core\\indexes\\base.py\u001b[0m in \u001b[0;36mget_loc\u001b[1;34m(self, key, method, tolerance)\u001b[0m\n\u001b[0;32m   2887\u001b[0m             \u001b[0mcasted_key\u001b[0m \u001b[1;33m=\u001b[0m \u001b[0mself\u001b[0m\u001b[1;33m.\u001b[0m\u001b[0m_maybe_cast_indexer\u001b[0m\u001b[1;33m(\u001b[0m\u001b[0mkey\u001b[0m\u001b[1;33m)\u001b[0m\u001b[1;33m\u001b[0m\u001b[1;33m\u001b[0m\u001b[0m\n\u001b[0;32m   2888\u001b[0m             \u001b[1;32mtry\u001b[0m\u001b[1;33m:\u001b[0m\u001b[1;33m\u001b[0m\u001b[1;33m\u001b[0m\u001b[0m\n\u001b[1;32m-> 2889\u001b[1;33m                 \u001b[1;32mreturn\u001b[0m \u001b[0mself\u001b[0m\u001b[1;33m.\u001b[0m\u001b[0m_engine\u001b[0m\u001b[1;33m.\u001b[0m\u001b[0mget_loc\u001b[0m\u001b[1;33m(\u001b[0m\u001b[0mcasted_key\u001b[0m\u001b[1;33m)\u001b[0m\u001b[1;33m\u001b[0m\u001b[1;33m\u001b[0m\u001b[0m\n\u001b[0m\u001b[0;32m   2890\u001b[0m             \u001b[1;32mexcept\u001b[0m \u001b[0mKeyError\u001b[0m \u001b[1;32mas\u001b[0m \u001b[0merr\u001b[0m\u001b[1;33m:\u001b[0m\u001b[1;33m\u001b[0m\u001b[1;33m\u001b[0m\u001b[0m\n\u001b[0;32m   2891\u001b[0m                 \u001b[1;32mraise\u001b[0m \u001b[0mKeyError\u001b[0m\u001b[1;33m(\u001b[0m\u001b[0mkey\u001b[0m\u001b[1;33m)\u001b[0m \u001b[1;32mfrom\u001b[0m \u001b[0merr\u001b[0m\u001b[1;33m\u001b[0m\u001b[1;33m\u001b[0m\u001b[0m\n",
      "\u001b[1;32mpandas\\_libs\\index.pyx\u001b[0m in \u001b[0;36mpandas._libs.index.IndexEngine.get_loc\u001b[1;34m()\u001b[0m\n",
      "\u001b[1;32mpandas\\_libs\\index.pyx\u001b[0m in \u001b[0;36mpandas._libs.index.IndexEngine.get_loc\u001b[1;34m()\u001b[0m\n",
      "\u001b[1;31mTypeError\u001b[0m: '(slice(None, None, None), ['year'], slice(0, 3, None))' is an invalid key"
     ]
    }
   ],
   "source": [
    "dui['year']=dui[:,['year'],0:3]\n",
    "#dui.head()\n",
    "#len(dui['day'])\n"
   ]
  },
  {
   "cell_type": "code",
   "execution_count": 56,
   "metadata": {},
   "outputs": [
    {
     "data": {
      "text/plain": [
       "theft-items-from-vehicle     27468\n",
       "traf-other                   25793\n",
       "theft-of-motor-vehicle       23004\n",
       "theft-other                  19216\n",
       "criminal-mischief-mtr-veh    15877\n",
       "                             ...  \n",
       "theft-from-yards                 1\n",
       "explosives-posses                1\n",
       "homicide-negligent               1\n",
       "riot                             1\n",
       "homicide-police-by-gun           1\n",
       "Name: Offense Type, Length: 193, dtype: int64"
      ]
     },
     "execution_count": 56,
     "metadata": {},
     "output_type": "execute_result"
    }
   ],
   "source": [
    "crime_df=denver_crime_df.loc[denver_crime_df['Crime']==1]\n",
    "crime_df=crime_df.sort_values(by=['Occurrence Date'])\n",
    "crime_df['Offense Type'].value_counts()"
   ]
  },
  {
   "cell_type": "code",
   "execution_count": 17,
   "metadata": {},
   "outputs": [
    {
     "data": {
      "text/plain": [
       "335851"
      ]
     },
     "execution_count": 17,
     "metadata": {},
     "output_type": "execute_result"
    }
   ],
   "source": []
  },
  {
   "cell_type": "code",
   "execution_count": null,
   "metadata": {},
   "outputs": [],
   "source": []
  }
 ],
 "metadata": {
  "kernelspec": {
   "display_name": "Python [conda env:PythonData] *",
   "language": "python",
   "name": "conda-env-PythonData-py"
  },
  "language_info": {
   "codemirror_mode": {
    "name": "ipython",
    "version": 3
   },
   "file_extension": ".py",
   "mimetype": "text/x-python",
   "name": "python",
   "nbconvert_exporter": "python",
   "pygments_lexer": "ipython3",
   "version": "3.8.5"
  }
 },
 "nbformat": 4,
 "nbformat_minor": 4
}
